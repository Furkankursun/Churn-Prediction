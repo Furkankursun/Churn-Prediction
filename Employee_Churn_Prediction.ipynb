{
 "cells": [
  {
   "cell_type": "code",
   "execution_count": 1,
   "id": "699fa964",
   "metadata": {
    "ExecuteTime": {
     "end_time": "2023-02-27T11:36:28.404345Z",
     "start_time": "2023-02-27T11:36:26.975343Z"
    }
   },
   "outputs": [],
   "source": [
    "import numpy as np\n",
    "import pandas as pd \n",
    "from sklearn.ensemble import RandomForestClassifier\n",
    "import joblib\n",
    "import seaborn as sns\n",
    "import matplotlib.pyplot as plt"
   ]
  },
  {
   "cell_type": "markdown",
   "id": "243d6d4c",
   "metadata": {},
   "source": [
    "# Data"
   ]
  },
  {
   "cell_type": "code",
   "execution_count": 2,
   "id": "6b7c1239",
   "metadata": {
    "ExecuteTime": {
     "end_time": "2023-02-27T11:36:28.435753Z",
     "start_time": "2023-02-27T11:36:28.405368Z"
    }
   },
   "outputs": [
    {
     "data": {
      "text/html": [
       "<div>\n",
       "<style scoped>\n",
       "    .dataframe tbody tr th:only-of-type {\n",
       "        vertical-align: middle;\n",
       "    }\n",
       "\n",
       "    .dataframe tbody tr th {\n",
       "        vertical-align: top;\n",
       "    }\n",
       "\n",
       "    .dataframe thead th {\n",
       "        text-align: right;\n",
       "    }\n",
       "</style>\n",
       "<table border=\"1\" class=\"dataframe\">\n",
       "  <thead>\n",
       "    <tr style=\"text-align: right;\">\n",
       "      <th></th>\n",
       "      <th>satisfaction_level</th>\n",
       "      <th>last_evaluation</th>\n",
       "      <th>number_project</th>\n",
       "      <th>average_montly_hours</th>\n",
       "      <th>time_spend_company</th>\n",
       "      <th>Work_accident</th>\n",
       "      <th>left</th>\n",
       "      <th>promotion_last_5years</th>\n",
       "      <th>Departments</th>\n",
       "      <th>salary</th>\n",
       "    </tr>\n",
       "  </thead>\n",
       "  <tbody>\n",
       "    <tr>\n",
       "      <th>0</th>\n",
       "      <td>0.38</td>\n",
       "      <td>0.53</td>\n",
       "      <td>2</td>\n",
       "      <td>157</td>\n",
       "      <td>3</td>\n",
       "      <td>0</td>\n",
       "      <td>1</td>\n",
       "      <td>0</td>\n",
       "      <td>sales</td>\n",
       "      <td>low</td>\n",
       "    </tr>\n",
       "    <tr>\n",
       "      <th>1</th>\n",
       "      <td>0.80</td>\n",
       "      <td>0.86</td>\n",
       "      <td>5</td>\n",
       "      <td>262</td>\n",
       "      <td>6</td>\n",
       "      <td>0</td>\n",
       "      <td>1</td>\n",
       "      <td>0</td>\n",
       "      <td>sales</td>\n",
       "      <td>medium</td>\n",
       "    </tr>\n",
       "    <tr>\n",
       "      <th>2</th>\n",
       "      <td>0.11</td>\n",
       "      <td>0.88</td>\n",
       "      <td>7</td>\n",
       "      <td>272</td>\n",
       "      <td>4</td>\n",
       "      <td>0</td>\n",
       "      <td>1</td>\n",
       "      <td>0</td>\n",
       "      <td>sales</td>\n",
       "      <td>medium</td>\n",
       "    </tr>\n",
       "    <tr>\n",
       "      <th>3</th>\n",
       "      <td>0.72</td>\n",
       "      <td>0.87</td>\n",
       "      <td>5</td>\n",
       "      <td>223</td>\n",
       "      <td>5</td>\n",
       "      <td>0</td>\n",
       "      <td>1</td>\n",
       "      <td>0</td>\n",
       "      <td>sales</td>\n",
       "      <td>low</td>\n",
       "    </tr>\n",
       "    <tr>\n",
       "      <th>4</th>\n",
       "      <td>0.37</td>\n",
       "      <td>0.52</td>\n",
       "      <td>2</td>\n",
       "      <td>159</td>\n",
       "      <td>3</td>\n",
       "      <td>0</td>\n",
       "      <td>1</td>\n",
       "      <td>0</td>\n",
       "      <td>sales</td>\n",
       "      <td>low</td>\n",
       "    </tr>\n",
       "  </tbody>\n",
       "</table>\n",
       "</div>"
      ],
      "text/plain": [
       "   satisfaction_level  last_evaluation  number_project  average_montly_hours  \\\n",
       "0                0.38             0.53               2                   157   \n",
       "1                0.80             0.86               5                   262   \n",
       "2                0.11             0.88               7                   272   \n",
       "3                0.72             0.87               5                   223   \n",
       "4                0.37             0.52               2                   159   \n",
       "\n",
       "   time_spend_company  Work_accident  left  promotion_last_5years  \\\n",
       "0                   3              0     1                      0   \n",
       "1                   6              0     1                      0   \n",
       "2                   4              0     1                      0   \n",
       "3                   5              0     1                      0   \n",
       "4                   3              0     1                      0   \n",
       "\n",
       "  Departments   salary  \n",
       "0        sales     low  \n",
       "1        sales  medium  \n",
       "2        sales  medium  \n",
       "3        sales     low  \n",
       "4        sales     low  "
      ]
     },
     "execution_count": 2,
     "metadata": {},
     "output_type": "execute_result"
    }
   ],
   "source": [
    "df = pd.read_csv(\"HR_Dataset.csv\")\n",
    "df.head()"
   ]
  },
  {
   "cell_type": "code",
   "execution_count": 3,
   "id": "b2803ded",
   "metadata": {
    "ExecuteTime": {
     "end_time": "2023-02-27T11:36:28.451747Z",
     "start_time": "2023-02-27T11:36:28.436755Z"
    }
   },
   "outputs": [
    {
     "name": "stdout",
     "output_type": "stream",
     "text": [
      "<class 'pandas.core.frame.DataFrame'>\n",
      "RangeIndex: 14999 entries, 0 to 14998\n",
      "Data columns (total 10 columns):\n",
      " #   Column                 Non-Null Count  Dtype  \n",
      "---  ------                 --------------  -----  \n",
      " 0   satisfaction_level     14999 non-null  float64\n",
      " 1   last_evaluation        14999 non-null  float64\n",
      " 2   number_project         14999 non-null  int64  \n",
      " 3   average_montly_hours   14999 non-null  int64  \n",
      " 4   time_spend_company     14999 non-null  int64  \n",
      " 5   Work_accident          14999 non-null  int64  \n",
      " 6   left                   14999 non-null  int64  \n",
      " 7   promotion_last_5years  14999 non-null  int64  \n",
      " 8   Departments            14999 non-null  object \n",
      " 9   salary                 14999 non-null  object \n",
      "dtypes: float64(2), int64(6), object(2)\n",
      "memory usage: 1.1+ MB\n"
     ]
    }
   ],
   "source": [
    "df.info()"
   ]
  },
  {
   "cell_type": "code",
   "execution_count": 4,
   "id": "73790f7b",
   "metadata": {
    "ExecuteTime": {
     "end_time": "2023-02-27T11:36:28.467749Z",
     "start_time": "2023-02-27T11:36:28.453723Z"
    }
   },
   "outputs": [],
   "source": [
    "df.drop_duplicates(keep='first', inplace=True)"
   ]
  },
  {
   "cell_type": "code",
   "execution_count": 5,
   "id": "adcb45c6",
   "metadata": {
    "ExecuteTime": {
     "end_time": "2023-02-27T11:36:28.483723Z",
     "start_time": "2023-02-27T11:36:28.468723Z"
    }
   },
   "outputs": [
    {
     "name": "stdout",
     "output_type": "stream",
     "text": [
      "satisfaction_level\n",
      "last_evaluation\n",
      "number_project\n",
      "average_montly_hours\n",
      "time_spend_company\n",
      "work_accident\n",
      "left\n",
      "promotion_last_5years\n",
      "departments\n",
      "salary\n"
     ]
    }
   ],
   "source": [
    "df.columns=[i.lower().strip() for i in df.columns]\n",
    "for i in df.columns:\n",
    "    print(i)"
   ]
  },
  {
   "cell_type": "code",
   "execution_count": 6,
   "id": "95166f89",
   "metadata": {
    "ExecuteTime": {
     "end_time": "2023-02-27T11:36:28.499752Z",
     "start_time": "2023-02-27T11:36:28.484761Z"
    }
   },
   "outputs": [],
   "source": [
    "salary_map = {'high': '3', 'medium': '2' , 'low': '1'}\n",
    "df['salary']=df['salary'].map(salary_map)\n",
    "df['salary']=df['salary'].astype('int')"
   ]
  },
  {
   "cell_type": "code",
   "execution_count": 7,
   "id": "d14d077a",
   "metadata": {
    "ExecuteTime": {
     "end_time": "2023-02-27T11:36:28.515752Z",
     "start_time": "2023-02-27T11:36:28.500751Z"
    }
   },
   "outputs": [],
   "source": [
    "department_map = {'sales': '1', 'technical': '2' , 'support': '3','IT': '4', 'RandD': '5' , 'product_mng': '6','marketing': '7', 'accounting': '8' , 'hr': '9', 'management': '10'}\n",
    "df['departments']=df['departments'].map(department_map)\n",
    "df['departments']=df['departments'].astype('int')"
   ]
  },
  {
   "cell_type": "code",
   "execution_count": 8,
   "id": "ce885b24",
   "metadata": {
    "ExecuteTime": {
     "end_time": "2023-02-27T11:36:28.531752Z",
     "start_time": "2023-02-27T11:36:28.516722Z"
    }
   },
   "outputs": [],
   "source": [
    "# normalize\n",
    "#df = (df - np.min(df)) / (np.max(df) - np.min(df)).values\n",
    "#df.head()"
   ]
  },
  {
   "cell_type": "code",
   "execution_count": 9,
   "id": "181a47e6",
   "metadata": {
    "ExecuteTime": {
     "end_time": "2023-02-27T11:36:28.547752Z",
     "start_time": "2023-02-27T11:36:28.532724Z"
    }
   },
   "outputs": [],
   "source": [
    "real_test_data = df.sample(1991)\n",
    "\n",
    "X_real_test = real_test_data.drop('left',axis=1)\n",
    "\n",
    "y_real_test = real_test_data['left']"
   ]
  },
  {
   "cell_type": "code",
   "execution_count": 10,
   "id": "dbdaa576",
   "metadata": {
    "ExecuteTime": {
     "end_time": "2023-02-27T11:36:28.563724Z",
     "start_time": "2023-02-27T11:36:28.550723Z"
    }
   },
   "outputs": [
    {
     "name": "stdout",
     "output_type": "stream",
     "text": [
      "X_real_test : (1991, 9)\n",
      "y_real_test : (1991,)\n"
     ]
    }
   ],
   "source": [
    "print('X_real_test :',X_real_test.shape)\n",
    "print('y_real_test :',y_real_test.shape)"
   ]
  },
  {
   "cell_type": "code",
   "execution_count": 11,
   "id": "6ab7fe5a",
   "metadata": {
    "ExecuteTime": {
     "end_time": "2023-02-27T11:36:28.579747Z",
     "start_time": "2023-02-27T11:36:28.564751Z"
    }
   },
   "outputs": [],
   "source": [
    "drop_index = real_test_data.index\n",
    "df = df.drop(drop_index)"
   ]
  },
  {
   "cell_type": "code",
   "execution_count": 12,
   "id": "3f8552bc",
   "metadata": {
    "ExecuteTime": {
     "end_time": "2023-02-27T11:36:28.595746Z",
     "start_time": "2023-02-27T11:36:28.580723Z"
    }
   },
   "outputs": [],
   "source": [
    "X = df.drop('left',axis=1)\n",
    "y = df['left']"
   ]
  },
  {
   "cell_type": "code",
   "execution_count": 13,
   "id": "5ef88f49",
   "metadata": {
    "ExecuteTime": {
     "end_time": "2023-02-27T11:36:28.611753Z",
     "start_time": "2023-02-27T11:36:28.596722Z"
    }
   },
   "outputs": [],
   "source": [
    "from sklearn.model_selection import train_test_split\n",
    "X_train,X_test,y_train,y_test=train_test_split(X,y,\n",
    "                                               test_size=0.2,\n",
    "                                               random_state=42)"
   ]
  },
  {
   "cell_type": "code",
   "execution_count": 14,
   "id": "862d7939",
   "metadata": {
    "ExecuteTime": {
     "end_time": "2023-02-27T11:36:28.627752Z",
     "start_time": "2023-02-27T11:36:28.612723Z"
    }
   },
   "outputs": [
    {
     "name": "stdout",
     "output_type": "stream",
     "text": [
      "X_train : (8000, 9)\n",
      "X_test : (2000, 9)\n",
      "y_train : (8000,)\n",
      "y_test : (2000,)\n"
     ]
    }
   ],
   "source": [
    "print('X_train :',X_train.shape)\n",
    "print('X_test :',X_test.shape)\n",
    "print('y_train :',y_train.shape)\n",
    "print('y_test :',y_test.shape)"
   ]
  },
  {
   "cell_type": "markdown",
   "id": "3b513f62",
   "metadata": {},
   "source": [
    "# Random Forest Classifier"
   ]
  },
  {
   "cell_type": "code",
   "execution_count": 15,
   "id": "68364ac7",
   "metadata": {
    "ExecuteTime": {
     "end_time": "2023-02-27T11:36:29.039762Z",
     "start_time": "2023-02-27T11:36:28.628755Z"
    }
   },
   "outputs": [
    {
     "data": {
      "text/html": [
       "<style>#sk-container-id-1 {color: black;background-color: white;}#sk-container-id-1 pre{padding: 0;}#sk-container-id-1 div.sk-toggleable {background-color: white;}#sk-container-id-1 label.sk-toggleable__label {cursor: pointer;display: block;width: 100%;margin-bottom: 0;padding: 0.3em;box-sizing: border-box;text-align: center;}#sk-container-id-1 label.sk-toggleable__label-arrow:before {content: \"▸\";float: left;margin-right: 0.25em;color: #696969;}#sk-container-id-1 label.sk-toggleable__label-arrow:hover:before {color: black;}#sk-container-id-1 div.sk-estimator:hover label.sk-toggleable__label-arrow:before {color: black;}#sk-container-id-1 div.sk-toggleable__content {max-height: 0;max-width: 0;overflow: hidden;text-align: left;background-color: #f0f8ff;}#sk-container-id-1 div.sk-toggleable__content pre {margin: 0.2em;color: black;border-radius: 0.25em;background-color: #f0f8ff;}#sk-container-id-1 input.sk-toggleable__control:checked~div.sk-toggleable__content {max-height: 200px;max-width: 100%;overflow: auto;}#sk-container-id-1 input.sk-toggleable__control:checked~label.sk-toggleable__label-arrow:before {content: \"▾\";}#sk-container-id-1 div.sk-estimator input.sk-toggleable__control:checked~label.sk-toggleable__label {background-color: #d4ebff;}#sk-container-id-1 div.sk-label input.sk-toggleable__control:checked~label.sk-toggleable__label {background-color: #d4ebff;}#sk-container-id-1 input.sk-hidden--visually {border: 0;clip: rect(1px 1px 1px 1px);clip: rect(1px, 1px, 1px, 1px);height: 1px;margin: -1px;overflow: hidden;padding: 0;position: absolute;width: 1px;}#sk-container-id-1 div.sk-estimator {font-family: monospace;background-color: #f0f8ff;border: 1px dotted black;border-radius: 0.25em;box-sizing: border-box;margin-bottom: 0.5em;}#sk-container-id-1 div.sk-estimator:hover {background-color: #d4ebff;}#sk-container-id-1 div.sk-parallel-item::after {content: \"\";width: 100%;border-bottom: 1px solid gray;flex-grow: 1;}#sk-container-id-1 div.sk-label:hover label.sk-toggleable__label {background-color: #d4ebff;}#sk-container-id-1 div.sk-serial::before {content: \"\";position: absolute;border-left: 1px solid gray;box-sizing: border-box;top: 0;bottom: 0;left: 50%;z-index: 0;}#sk-container-id-1 div.sk-serial {display: flex;flex-direction: column;align-items: center;background-color: white;padding-right: 0.2em;padding-left: 0.2em;position: relative;}#sk-container-id-1 div.sk-item {position: relative;z-index: 1;}#sk-container-id-1 div.sk-parallel {display: flex;align-items: stretch;justify-content: center;background-color: white;position: relative;}#sk-container-id-1 div.sk-item::before, #sk-container-id-1 div.sk-parallel-item::before {content: \"\";position: absolute;border-left: 1px solid gray;box-sizing: border-box;top: 0;bottom: 0;left: 50%;z-index: -1;}#sk-container-id-1 div.sk-parallel-item {display: flex;flex-direction: column;z-index: 1;position: relative;background-color: white;}#sk-container-id-1 div.sk-parallel-item:first-child::after {align-self: flex-end;width: 50%;}#sk-container-id-1 div.sk-parallel-item:last-child::after {align-self: flex-start;width: 50%;}#sk-container-id-1 div.sk-parallel-item:only-child::after {width: 0;}#sk-container-id-1 div.sk-dashed-wrapped {border: 1px dashed gray;margin: 0 0.4em 0.5em 0.4em;box-sizing: border-box;padding-bottom: 0.4em;background-color: white;}#sk-container-id-1 div.sk-label label {font-family: monospace;font-weight: bold;display: inline-block;line-height: 1.2em;}#sk-container-id-1 div.sk-label-container {text-align: center;}#sk-container-id-1 div.sk-container {/* jupyter's `normalize.less` sets `[hidden] { display: none; }` but bootstrap.min.css set `[hidden] { display: none !important; }` so we also need the `!important` here to be able to override the default hidden behavior on the sphinx rendered scikit-learn.org. See: https://github.com/scikit-learn/scikit-learn/issues/21755 */display: inline-block !important;position: relative;}#sk-container-id-1 div.sk-text-repr-fallback {display: none;}</style><div id=\"sk-container-id-1\" class=\"sk-top-container\"><div class=\"sk-text-repr-fallback\"><pre>RandomForestClassifier(random_state=101)</pre><b>In a Jupyter environment, please rerun this cell to show the HTML representation or trust the notebook. <br />On GitHub, the HTML representation is unable to render, please try loading this page with nbviewer.org.</b></div><div class=\"sk-container\" hidden><div class=\"sk-item\"><div class=\"sk-estimator sk-toggleable\"><input class=\"sk-toggleable__control sk-hidden--visually\" id=\"sk-estimator-id-1\" type=\"checkbox\" checked><label for=\"sk-estimator-id-1\" class=\"sk-toggleable__label sk-toggleable__label-arrow\">RandomForestClassifier</label><div class=\"sk-toggleable__content\"><pre>RandomForestClassifier(random_state=101)</pre></div></div></div></div></div>"
      ],
      "text/plain": [
       "RandomForestClassifier(random_state=101)"
      ]
     },
     "execution_count": 15,
     "metadata": {},
     "output_type": "execute_result"
    }
   ],
   "source": [
    "RF_model = RandomForestClassifier(random_state=101)\n",
    "RF_model.fit(X_train,y_train)"
   ]
  },
  {
   "cell_type": "code",
   "execution_count": 16,
   "id": "e8d6b330",
   "metadata": {
    "ExecuteTime": {
     "end_time": "2023-02-27T11:36:29.054761Z",
     "start_time": "2023-02-27T11:36:29.040761Z"
    }
   },
   "outputs": [],
   "source": [
    "from sklearn.metrics import classification_report, confusion_matrix\n"
   ]
  },
  {
   "cell_type": "code",
   "execution_count": 17,
   "id": "586a396e",
   "metadata": {
    "ExecuteTime": {
     "end_time": "2023-02-27T11:36:29.070761Z",
     "start_time": "2023-02-27T11:36:29.055761Z"
    }
   },
   "outputs": [],
   "source": [
    "def eval_metric(model, X_train, y_train, X_test, y_test):\n",
    "    y_train_pred = model.predict(X_train)\n",
    "    y_pred = model.predict(X_test)\n",
    "    \n",
    "    print(\"Test_Set\")\n",
    "    print(confusion_matrix(y_test, y_pred))\n",
    "    print(classification_report(y_test, y_pred))\n",
    "    print()\n",
    "    print(\"Train_Set\")\n",
    "    print(confusion_matrix(y_train, y_train_pred))\n",
    "    print(classification_report(y_train, y_train_pred))"
   ]
  },
  {
   "cell_type": "code",
   "execution_count": 18,
   "id": "05eb7a5d",
   "metadata": {
    "ExecuteTime": {
     "end_time": "2023-02-27T11:36:29.182793Z",
     "start_time": "2023-02-27T11:36:29.071762Z"
    },
    "scrolled": false
   },
   "outputs": [
    {
     "name": "stdout",
     "output_type": "stream",
     "text": [
      "Test_Set\n",
      "[[1642    8]\n",
      " [  31  319]]\n",
      "              precision    recall  f1-score   support\n",
      "\n",
      "           0       0.98      1.00      0.99      1650\n",
      "           1       0.98      0.91      0.94       350\n",
      "\n",
      "    accuracy                           0.98      2000\n",
      "   macro avg       0.98      0.95      0.97      2000\n",
      "weighted avg       0.98      0.98      0.98      2000\n",
      "\n",
      "\n",
      "Train_Set\n",
      "[[6682    0]\n",
      " [   0 1318]]\n",
      "              precision    recall  f1-score   support\n",
      "\n",
      "           0       1.00      1.00      1.00      6682\n",
      "           1       1.00      1.00      1.00      1318\n",
      "\n",
      "    accuracy                           1.00      8000\n",
      "   macro avg       1.00      1.00      1.00      8000\n",
      "weighted avg       1.00      1.00      1.00      8000\n",
      "\n"
     ]
    }
   ],
   "source": [
    "eval_metric(RF_model, X_train, y_train, X_test, y_test)"
   ]
  },
  {
   "cell_type": "markdown",
   "id": "e5505a08",
   "metadata": {},
   "source": [
    "# Save & Load Test Model"
   ]
  },
  {
   "cell_type": "code",
   "execution_count": 19,
   "id": "d2558a1e",
   "metadata": {
    "ExecuteTime": {
     "end_time": "2023-02-27T11:36:29.262309Z",
     "start_time": "2023-02-27T11:36:29.183803Z"
    }
   },
   "outputs": [],
   "source": [
    "# save\n",
    "joblib.dump(RF_model, \"model_rfc_churn.joblib\")\n",
    "\n",
    "# load\n",
    "loaded_rf = joblib.load(\"model_rfc_churn.joblib\")"
   ]
  },
  {
   "cell_type": "code",
   "execution_count": 20,
   "id": "5faf5e15",
   "metadata": {
    "ExecuteTime": {
     "end_time": "2023-02-27T11:36:29.293310Z",
     "start_time": "2023-02-27T11:36:29.263310Z"
    }
   },
   "outputs": [],
   "source": [
    "# Test data\n",
    "y_real_pred = loaded_rf.predict(X_real_test)"
   ]
  },
  {
   "cell_type": "code",
   "execution_count": 21,
   "id": "72ded767",
   "metadata": {
    "ExecuteTime": {
     "end_time": "2023-02-27T11:36:29.465354Z",
     "start_time": "2023-02-27T11:36:29.294313Z"
    }
   },
   "outputs": [
    {
     "data": {
      "image/png": "[encoded data removed]",
      "text/plain": [
       "<Figure size 500x500 with 2 Axes>"
      ]
     },
     "metadata": {},
     "output_type": "display_data"
    }
   ],
   "source": [
    "# Cofusion Matrix\n",
    "plt.rcParams['figure.dpi'] = 100\n",
    "cm = confusion_matrix(y_real_test, y_real_pred)\n",
    "plt.rcParams['figure.figsize'] = (5, 5)\n",
    "sns.heatmap(cm, annot = True, annot_kws = {'size':15}, cmap = 'PuBu',linewidths=.5,fmt=\".1f\");"
   ]
  },
  {
   "cell_type": "code",
   "execution_count": 22,
   "id": "a1f39011",
   "metadata": {
    "ExecuteTime": {
     "end_time": "2023-02-27T11:36:29.481422Z",
     "start_time": "2023-02-27T11:36:29.466264Z"
    }
   },
   "outputs": [
    {
     "name": "stdout",
     "output_type": "stream",
     "text": [
      "              precision    recall  f1-score   support\n",
      "\n",
      "           0       0.99      1.00      0.99      1668\n",
      "           1       0.99      0.93      0.96       323\n",
      "\n",
      "    accuracy                           0.99      1991\n",
      "   macro avg       0.99      0.96      0.97      1991\n",
      "weighted avg       0.99      0.99      0.99      1991\n",
      "\n"
     ]
    }
   ],
   "source": [
    " print(classification_report(y_real_test, y_real_pred))"
   ]
  },
  {
   "cell_type": "code",
   "execution_count": null,
   "id": "78775394",
   "metadata": {},
   "outputs": [],
   "source": []
  }
 ],
 "metadata": {
  "kernelspec": {
   "display_name": "Python 3 (ipykernel)",
   "language": "python",
   "name": "python3"
  },
  "language_info": {
   "codemirror_mode": {
    "name": "ipython",
    "version": 3
   },
   "file_extension": ".py",
   "mimetype": "text/x-python",
   "name": "python",
   "nbconvert_exporter": "python",
   "pygments_lexer": "ipython3",
   "version": "3.9.15"
  },
  "toc": {
   "base_numbering": 1,
   "nav_menu": {},
   "number_sections": true,
   "sideBar": true,
   "skip_h1_title": false,
   "title_cell": "Table of Contents",
   "title_sidebar": "Contents",
   "toc_cell": false,
   "toc_position": {
    "height": "calc(100% - 180px)",
    "left": "10px",
    "top": "150px",
    "width": "384px"
   },
   "toc_section_display": true,
   "toc_window_display": true
  },
  "varInspector": {
   "cols": {
    "lenName": 16,
    "lenType": 16,
    "lenVar": 40
   },
   "kernels_config": {
    "python": {
     "delete_cmd_postfix": "",
     "delete_cmd_prefix": "del ",
     "library": "var_list.py",
     "varRefreshCmd": "print(var_dic_list())"
    },
    "r": {
     "delete_cmd_postfix": ") ",
     "delete_cmd_prefix": "rm(",
     "library": "var_list.r",
     "varRefreshCmd": "cat(var_dic_list()) "
    }
   },
   "types_to_exclude": [
    "module",
    "function",
    "builtin_function_or_method",
    "instance",
    "_Feature"
   ],
   "window_display": false
  }
 },
 "nbformat": 4,
 "nbformat_minor": 5
}
